{
  "nbformat": 4,
  "nbformat_minor": 0,
  "metadata": {
    "colab": {
      "name": "test_word2vec.ipynb",
      "provenance": [],
      "include_colab_link": true
    },
    "kernelspec": {
      "name": "python3",
      "display_name": "Python 3"
    }
  },
  "cells": [
    {
      "cell_type": "markdown",
      "metadata": {
        "id": "view-in-github",
        "colab_type": "text"
      },
      "source": [
        "<a href=\"https://colab.research.google.com/github/irasin/jp_w2v/blob/master/test_word2vec.ipynb\" target=\"_parent\"><img src=\"https://colab.research.google.com/assets/colab-badge.svg\" alt=\"Open In Colab\"/></a>"
      ]
    },
    {
      "cell_type": "code",
      "metadata": {
        "id": "gASRZ1t0GD4K",
        "colab_type": "code",
        "outputId": "89903e2e-1dd9-4c9e-cb50-780ecd70533f",
        "colab": {
          "base_uri": "https://localhost:8080/",
          "height": 122
        }
      },
      "source": [
        "from google.colab import drive\n",
        "drive.mount('/content/drive')"
      ],
      "execution_count": 2,
      "outputs": [
        {
          "output_type": "stream",
          "text": [
            "Go to this URL in a browser: https://accounts.google.com/o/oauth2/auth?client_id=947318989803-6bn6qk8qdgf4n4g3pfee6491hc0brc4i.apps.googleusercontent.com&redirect_uri=urn%3Aietf%3Awg%3Aoauth%3A2.0%3Aoob&scope=email%20https%3A%2F%2Fwww.googleapis.com%2Fauth%2Fdocs.test%20https%3A%2F%2Fwww.googleapis.com%2Fauth%2Fdrive%20https%3A%2F%2Fwww.googleapis.com%2Fauth%2Fdrive.photos.readonly%20https%3A%2F%2Fwww.googleapis.com%2Fauth%2Fpeopleapi.readonly&response_type=code\n",
            "\n",
            "Enter your authorization code:\n",
            "··········\n",
            "Mounted at /content/drive\n"
          ],
          "name": "stdout"
        }
      ]
    },
    {
      "cell_type": "code",
      "metadata": {
        "id": "8RMdNeqOGmXT",
        "colab_type": "code",
        "colab": {
          "base_uri": "https://localhost:8080/",
          "height": 935
        },
        "outputId": "f32e0969-bef2-466f-fe18-ad2df3ff1d65"
      },
      "source": [
        "!ls -l drive/My\\ Drive/ "
      ],
      "execution_count": 3,
      "outputs": [
        {
          "output_type": "stream",
          "text": [
            "total 1378430\n",
            "-rw------- 1 root root   5640583 Oct 27 05:18  1703.07511.pdf\n",
            "-rw------- 1 root root   9352261 Oct 29 08:05  1802.06474.pdf\n",
            "-rw------- 1 root root  10224564 Oct 27 05:19  1802.07101.pdf\n",
            "-rw------- 1 root root  10199292 Nov  4 01:58  1805.03857.pdf\n",
            "-rw------- 1 root root   6302661 Nov  4 01:52  1805.04103.pdf\n",
            "-rw------- 1 root root  10017525 Oct 23 03:18  1805.11155.pdf\n",
            "-rw------- 1 root root   5372797 Oct 26 07:28  1808.04537.pdf\n",
            "-rw------- 1 root root   4845478 Nov  4 01:52  1812.02342.pdf\n",
            "-rw------- 1 root root  11698598 Oct 26 04:53  1903.09760.pdf\n",
            "-rw------- 1 root root   6772372 Oct 23 03:18  1906.00668.pdf\n",
            "-rw------- 1 root root   3391250 Oct 25 04:51  1910.08853v1.pdf\n",
            "-rw------- 1 root root   6955971 Nov  4 02:02  1910.09085v1.pdf\n",
            "-rw------- 1 root root   9414397 Oct 24 11:13  1910.09447v1.pdf\n",
            "-rw------- 1 root root   9353397 Nov  4 01:28  1910.13093v1.pdf\n",
            "-rw------- 1 root root    722358 Oct 30 19:31  2002-s-jsai-clustering-2.pdf\n",
            "drwx------ 2 root root      4096 Jun  3 11:51  コンペ2018\n",
            "drwx------ 2 root root      4096 May 16 04:52  Avatar-Net-Pytorch\n",
            "-rw------- 1 root root   1183775 Oct 28 07:27  cluster_visualization.html\n",
            "drwx------ 2 root root      4096 Dec 14  2018 'Colab Notebooks'\n",
            "-rw------- 1 root root    203759 Aug 21 14:51 'Fast Approximate Energy Minimization via Graph Cuts.pdf'\n",
            "-rw------- 1 root root    450237 Sep  7 02:59 'Generalized Fast Approximate Energy Minimization via Graph Cuts.pdf'\n",
            "-rw------- 1 root root    176545 Sep  7 03:00 'Markov Random Fields with Effcient Approximations.pdf'\n",
            "drwx------ 2 root root      4096 May 20  2018  miku\n",
            "drwx------ 2 root root      4096 Nov  2 04:40  mst\n",
            "-rw------- 1 root root   4501449 Aug 15 06:01 'Multimodal Style Transfer via Graph Cuts.pdf'\n",
            "drwx------ 2 root root      4096 Oct 23 03:26  p\n",
            "drwx------ 2 root root      4096 Aug  5 06:40  p2v_src\n",
            "-rw------- 1 root root    399987 Sep 11 04:47  グラフカット.pdf\n",
            "drwx------ 2 root root      4096 May 20  2018  programming\n",
            "drwx------ 2 root root      4096 Nov  1 07:36  project_master11\n",
            "drwx------ 2 root root      4096 Oct 30 05:08  ra\n",
            "drwx------ 2 root root      4096 May 21 01:19  randd_eight_skill_prediction\n",
            "drwx------ 2 root root      4096 Oct 26 06:21  res\n",
            "drwx------ 2 root root      4096 Oct 26 07:26  res1\n",
            "drwx------ 2 root root      4096 Oct 28 06:36  res_n3\n",
            "drwx------ 2 root root      4096 May  8 07:49  StyleTransfer\n",
            "-rw------- 1 root root     18714 Nov  4 11:26  test_word2vec.ipynb\n",
            "drwx------ 2 root root      4096 Jan 15  2018  tex資料\n",
            "-rw------- 1 root root    117029 Oct 26 07:56  t.ipynb\n",
            "-rw------- 1 root root 117971470 Oct 29 03:06  tokenized_data.txt\n",
            "-rw------- 1 root root  86760368 Nov  5 06:52  w2v_d150.txt\n",
            "-rw------- 1 root root 179210271 Nov  4 09:27  w2v_d200.txt\n",
            "-rw------- 1 root root 906173226 Oct 29 05:42  word2vec.model\n",
            "-rw------- 1 root root    594830 Oct 25 05:22  xmeans_euc.pdf\n",
            "-rw------- 1 root root    280622 Oct 25 05:22  xmeans.pdf\n",
            "drwx------ 2 root root      4096 Oct  4 05:27  修正バージョン\n",
            "drwx------ 2 root root      4096 Feb 18  2019  就活\n",
            "-rw------- 1 root root     61142 Sep  8 06:23  最小カット計算に基づいたエネルギーの近似最小化.pdf\n",
            "drwx------ 2 root root      4096 May 16 04:19  有価証券報告書関連論文\n",
            "drwx------ 2 root root      4096 May 20  2018  東工大講義\n",
            "-rw------- 1 root root    212394 Sep  9  2018  猫に必要なもの.pdf\n",
            "-rw------- 1 root root   2839042 Sep  8 06:26  グラフカットの理論と応⽤.pdf\n",
            "drwx------ 2 root root      4096 May  8  2018  論文・資料\n"
          ],
          "name": "stdout"
        }
      ]
    },
    {
      "cell_type": "code",
      "metadata": {
        "id": "ZxrPpI2wGN7H",
        "colab_type": "code",
        "colab": {}
      },
      "source": [
        "import logging\n",
        "from gensim.models import KeyedVectors\n",
        "\n",
        "logging.basicConfig(format='%(asctime)s : %(levelname)s : %(message)s', level=logging.INFO)\n",
        "logging.root.setLevel(level=logging.INFO)\n"
      ],
      "execution_count": 0,
      "outputs": []
    },
    {
      "cell_type": "code",
      "metadata": {
        "id": "9M4_Z-phGXBw",
        "colab_type": "code",
        "outputId": "a6a93f0b-b886-49a4-9f9d-5ee06c575fd2",
        "colab": {
          "base_uri": "https://localhost:8080/",
          "height": 105
        }
      },
      "source": [
        "model = KeyedVectors.load_word2vec_format('drive/My Drive/w2v_d150.txt', binary=False)"
      ],
      "execution_count": 5,
      "outputs": [
        {
          "output_type": "stream",
          "text": [
            "2019-11-05 06:55:22,059 : INFO : loading projection weights from drive/My Drive/w2v_d150.txt\n",
            "/usr/local/lib/python3.6/dist-packages/smart_open/smart_open_lib.py:398: UserWarning: This function is deprecated, use smart_open.open instead. See the migration notes for details: https://github.com/RaRe-Technologies/smart_open/blob/master/README.rst#migrating-to-the-new-open-function\n",
            "  'See the migration notes for details: %s' % _MIGRATION_NOTES_URL\n",
            "2019-11-05 06:55:30,427 : INFO : loaded (49371, 150) matrix from drive/My Drive/w2v_d150.txt\n"
          ],
          "name": "stderr"
        }
      ]
    },
    {
      "cell_type": "code",
      "metadata": {
        "id": "ZGjxqwHqGc2t",
        "colab_type": "code",
        "outputId": "f0d8268e-ce47-4bcc-f6f3-126778b2527c",
        "colab": {
          "base_uri": "https://localhost:8080/",
          "height": 258
        }
      },
      "source": [
        "model.most_similar(positive=[\"日本\"], topn=10)"
      ],
      "execution_count": 6,
      "outputs": [
        {
          "output_type": "stream",
          "text": [
            "2019-11-05 06:55:47,263 : INFO : precomputing L2-norms of word weight vectors\n",
            "/usr/local/lib/python3.6/dist-packages/gensim/matutils.py:737: FutureWarning: Conversion of the second argument of issubdtype from `int` to `np.signedinteger` is deprecated. In future, it will be treated as `np.int64 == np.dtype(int).type`.\n",
            "  if np.issubdtype(vec.dtype, np.int):\n"
          ],
          "name": "stderr"
        },
        {
          "output_type": "execute_result",
          "data": {
            "text/plain": [
              "[('韓国', 0.6028373837471008),\n",
              " ('中国', 0.568657398223877),\n",
              " ('アメリカ', 0.5446864366531372),\n",
              " ('英国', 0.5219305157661438),\n",
              " ('米国', 0.5190688967704773),\n",
              " ('台湾', 0.5013668537139893),\n",
              " ('アメリカ合衆国', 0.46616294980049133),\n",
              " ('大韓民国', 0.46079662442207336),\n",
              " ('イギリス', 0.4598107933998108),\n",
              " ('ソ連', 0.44626384973526)]"
            ]
          },
          "metadata": {
            "tags": []
          },
          "execution_count": 6
        }
      ]
    },
    {
      "cell_type": "code",
      "metadata": {
        "id": "jFn7UXoDHRNx",
        "colab_type": "code",
        "outputId": "4d34742f-feed-400e-a3d9-66026c7925b0",
        "colab": {
          "base_uri": "https://localhost:8080/",
          "height": 241
        }
      },
      "source": [
        "model.most_similar(positive=[\"ノルム\"], topn=10)"
      ],
      "execution_count": 7,
      "outputs": [
        {
          "output_type": "stream",
          "text": [
            "/usr/local/lib/python3.6/dist-packages/gensim/matutils.py:737: FutureWarning: Conversion of the second argument of issubdtype from `int` to `np.signedinteger` is deprecated. In future, it will be treated as `np.int64 == np.dtype(int).type`.\n",
            "  if np.issubdtype(vec.dtype, np.int):\n"
          ],
          "name": "stderr"
        },
        {
          "output_type": "execute_result",
          "data": {
            "text/plain": [
              "[('線型', 0.9126728773117065),\n",
              " ('函数', 0.9007588028907776),\n",
              " ('作用素', 0.8802406787872314),\n",
              " ('代数', 0.8774458765983582),\n",
              " ('位相', 0.8750041723251343),\n",
              " ('測度', 0.8741074204444885),\n",
              " ('射影', 0.871065616607666),\n",
              " ('多元', 0.870232880115509),\n",
              " ('複素', 0.8695701360702515),\n",
              " ('ポテンシャル', 0.8681957721710205)]"
            ]
          },
          "metadata": {
            "tags": []
          },
          "execution_count": 7
        }
      ]
    },
    {
      "cell_type": "code",
      "metadata": {
        "id": "xM02hpb-HUKM",
        "colab_type": "code",
        "outputId": "26ad127a-a283-4936-dabe-7bc41ec83581",
        "colab": {
          "base_uri": "https://localhost:8080/",
          "height": 241
        }
      },
      "source": [
        "model.most_similar(positive=[\"トヨタ\"], topn=10)"
      ],
      "execution_count": 8,
      "outputs": [
        {
          "output_type": "stream",
          "text": [
            "/usr/local/lib/python3.6/dist-packages/gensim/matutils.py:737: FutureWarning: Conversion of the second argument of issubdtype from `int` to `np.signedinteger` is deprecated. In future, it will be treated as `np.int64 == np.dtype(int).type`.\n",
            "  if np.issubdtype(vec.dtype, np.int):\n"
          ],
          "name": "stderr"
        },
        {
          "output_type": "execute_result",
          "data": {
            "text/plain": [
              "[('日産', 0.872700572013855),\n",
              " ('ホンダ', 0.8688712120056152),\n",
              " ('ワークス', 0.8176044225692749),\n",
              " ('ヤマハ', 0.8115472793579102),\n",
              " ('フォーミュラ', 0.7928123474121094),\n",
              " ('マツダ', 0.7885207533836365),\n",
              " ('bmw', 0.782461404800415),\n",
              " ('メルセデス・ベンツ', 0.773361325263977),\n",
              " ('トヨタ自動車', 0.7710272669792175),\n",
              " ('ルノー', 0.7588328123092651)]"
            ]
          },
          "metadata": {
            "tags": []
          },
          "execution_count": 8
        }
      ]
    },
    {
      "cell_type": "code",
      "metadata": {
        "id": "5I07NTPeHVtZ",
        "colab_type": "code",
        "outputId": "992275a2-c185-4254-9cd2-b380cb4b1f98",
        "colab": {
          "base_uri": "https://localhost:8080/",
          "height": 241
        }
      },
      "source": [
        "model.most_similar(positive=[\"富士山\"],topn=10)"
      ],
      "execution_count": 9,
      "outputs": [
        {
          "output_type": "stream",
          "text": [
            "/usr/local/lib/python3.6/dist-packages/gensim/matutils.py:737: FutureWarning: Conversion of the second argument of issubdtype from `int` to `np.signedinteger` is deprecated. In future, it will be treated as `np.int64 == np.dtype(int).type`.\n",
            "  if np.issubdtype(vec.dtype, np.int):\n"
          ],
          "name": "stderr"
        },
        {
          "output_type": "execute_result",
          "data": {
            "text/plain": [
              "[('参道', 0.7944530248641968),\n",
              " ('滝', 0.7571784257888794),\n",
              " ('麓', 0.7287326455116272),\n",
              " ('連峰', 0.7287081480026245),\n",
              " ('河岸', 0.7278122305870056),\n",
              " ('姫路城', 0.7207543849945068),\n",
              " ('土手', 0.7196384072303772),\n",
              " ('千曲川', 0.7182471752166748),\n",
              " ('細道', 0.7181212902069092),\n",
              " ('城山', 0.7164788246154785)]"
            ]
          },
          "metadata": {
            "tags": []
          },
          "execution_count": 9
        }
      ]
    },
    {
      "cell_type": "code",
      "metadata": {
        "id": "USM6Kdf2HXaT",
        "colab_type": "code",
        "outputId": "83f3c2dc-3792-4eb8-9cba-28bf487ed054",
        "colab": {
          "base_uri": "https://localhost:8080/",
          "height": 241
        }
      },
      "source": [
        "model.most_similar(positive=[\"寒い\"],topn=10)"
      ],
      "execution_count": 10,
      "outputs": [
        {
          "output_type": "stream",
          "text": [
            "/usr/local/lib/python3.6/dist-packages/gensim/matutils.py:737: FutureWarning: Conversion of the second argument of issubdtype from `int` to `np.signedinteger` is deprecated. In future, it will be treated as `np.int64 == np.dtype(int).type`.\n",
            "  if np.issubdtype(vec.dtype, np.int):\n"
          ],
          "name": "stderr"
        },
        {
          "output_type": "execute_result",
          "data": {
            "text/plain": [
              "[('暑い', 0.8262453079223633),\n",
              " ('暑く', 0.7862316370010376),\n",
              " ('冷涼', 0.7085137963294983),\n",
              " ('降る', 0.6855301260948181),\n",
              " ('暖かく', 0.6561625003814697),\n",
              " ('降雨', 0.6502396464347839),\n",
              " ('雨季', 0.6423071622848511),\n",
              " ('暖かい', 0.6416678428649902),\n",
              " ('多湿', 0.6407765746116638),\n",
              " ('涼しい', 0.6185687184333801)]"
            ]
          },
          "metadata": {
            "tags": []
          },
          "execution_count": 10
        }
      ]
    },
    {
      "cell_type": "code",
      "metadata": {
        "id": "ilfLlUs1HY2t",
        "colab_type": "code",
        "outputId": "db30cdb1-e56a-4286-9817-002c3f0eee21",
        "colab": {
          "base_uri": "https://localhost:8080/",
          "height": 241
        }
      },
      "source": [
        "model.most_similar(positive=[\"遠い\"], topn=10)"
      ],
      "execution_count": 11,
      "outputs": [
        {
          "output_type": "stream",
          "text": [
            "/usr/local/lib/python3.6/dist-packages/gensim/matutils.py:737: FutureWarning: Conversion of the second argument of issubdtype from `int` to `np.signedinteger` is deprecated. In future, it will be treated as `np.int64 == np.dtype(int).type`.\n",
            "  if np.issubdtype(vec.dtype, np.int):\n"
          ],
          "name": "stderr"
        },
        {
          "output_type": "execute_result",
          "data": {
            "text/plain": [
              "[('遠く', 0.7065923810005188),\n",
              " ('昔', 0.6548011302947998),\n",
              " ('美しい', 0.6251417398452759),\n",
              " ('暗い', 0.6225255131721497),\n",
              " ('伸びる', 0.6107264757156372),\n",
              " ('明るい', 0.5951216220855713),\n",
              " ('近い', 0.5947521328926086),\n",
              " ('延びる', 0.5942854881286621),\n",
              " ('古来', 0.5886229276657104),\n",
              " ('はるか', 0.5807777047157288)]"
            ]
          },
          "metadata": {
            "tags": []
          },
          "execution_count": 11
        }
      ]
    },
    {
      "cell_type": "code",
      "metadata": {
        "id": "Eha2wHZDHaLP",
        "colab_type": "code",
        "outputId": "eff91ee1-d9f6-4164-de98-51fda91a0d97",
        "colab": {
          "base_uri": "https://localhost:8080/",
          "height": 241
        }
      },
      "source": [
        "model.most_similar(positive=[\"国王\", \"女\"], negative=[\"男\"], topn=10)"
      ],
      "execution_count": 12,
      "outputs": [
        {
          "output_type": "stream",
          "text": [
            "/usr/local/lib/python3.6/dist-packages/gensim/matutils.py:737: FutureWarning: Conversion of the second argument of issubdtype from `int` to `np.signedinteger` is deprecated. In future, it will be treated as `np.int64 == np.dtype(int).type`.\n",
            "  if np.issubdtype(vec.dtype, np.int):\n"
          ],
          "name": "stderr"
        },
        {
          "output_type": "execute_result",
          "data": {
            "text/plain": [
              "[('皇帝', 0.7755358219146729),\n",
              " ('王室', 0.7674435377120972),\n",
              " ('スルタン', 0.7632884383201599),\n",
              " ('君主', 0.7340577244758606),\n",
              " ('教皇', 0.7233480215072632),\n",
              " ('諸侯', 0.7116603255271912),\n",
              " ('スルターン', 0.7103747725486755),\n",
              " ('大公', 0.698824405670166),\n",
              " ('王族', 0.6934288740158081),\n",
              " ('ピョートル', 0.6929115653038025)]"
            ]
          },
          "metadata": {
            "tags": []
          },
          "execution_count": 12
        }
      ]
    },
    {
      "cell_type": "code",
      "metadata": {
        "id": "lBdOAYlcHbhd",
        "colab_type": "code",
        "outputId": "75a9d410-42de-4d36-eac3-17a4f280ae78",
        "colab": {
          "base_uri": "https://localhost:8080/",
          "height": 241
        }
      },
      "source": [
        "model.most_similar(positive=[\"姪\", \"男\"], negative=[\"女\"], topn=10)"
      ],
      "execution_count": 13,
      "outputs": [
        {
          "output_type": "stream",
          "text": [
            "/usr/local/lib/python3.6/dist-packages/gensim/matutils.py:737: FutureWarning: Conversion of the second argument of issubdtype from `int` to `np.signedinteger` is deprecated. In future, it will be treated as `np.int64 == np.dtype(int).type`.\n",
            "  if np.issubdtype(vec.dtype, np.int):\n"
          ],
          "name": "stderr"
        },
        {
          "output_type": "execute_result",
          "data": {
            "text/plain": [
              "[('弟', 0.8016425967216492),\n",
              " ('愛人', 0.7928972840309143),\n",
              " ('伯父', 0.782619297504425),\n",
              " ('従兄', 0.7767539024353027),\n",
              " ('妹', 0.7681851387023926),\n",
              " ('義父', 0.7633337378501892),\n",
              " ('従兄弟', 0.7631887197494507),\n",
              " ('夫', 0.7617064118385315),\n",
              " ('兄', 0.7592572569847107),\n",
              " ('息子', 0.7592199444770813)]"
            ]
          },
          "metadata": {
            "tags": []
          },
          "execution_count": 13
        }
      ]
    },
    {
      "cell_type": "code",
      "metadata": {
        "id": "uyqZgIghHdBc",
        "colab_type": "code",
        "outputId": "3669a127-11d6-4d87-9897-08f898751e90",
        "colab": {
          "base_uri": "https://localhost:8080/",
          "height": 275
        }
      },
      "source": [
        "model.wv.most_similar(positive=[\"札幌\", \"沖縄\"], negative=[\"北海道\"], topn=10)"
      ],
      "execution_count": 14,
      "outputs": [
        {
          "output_type": "stream",
          "text": [
            "/usr/local/lib/python3.6/dist-packages/ipykernel_launcher.py:1: DeprecationWarning: Call to deprecated `wv` (Attribute will be removed in 4.0.0, use self instead).\n",
            "  \"\"\"Entry point for launching an IPython kernel.\n",
            "/usr/local/lib/python3.6/dist-packages/gensim/matutils.py:737: FutureWarning: Conversion of the second argument of issubdtype from `int` to `np.signedinteger` is deprecated. In future, it will be treated as `np.int64 == np.dtype(int).type`.\n",
            "  if np.issubdtype(vec.dtype, np.int):\n"
          ],
          "name": "stderr"
        },
        {
          "output_type": "execute_result",
          "data": {
            "text/plain": [
              "[('福岡', 0.7023648023605347),\n",
              " ('広島', 0.6472570300102234),\n",
              " ('長崎', 0.6087998151779175),\n",
              " ('宮崎', 0.5921036601066589),\n",
              " ('山形', 0.5914216637611389),\n",
              " ('教委', 0.5901268124580383),\n",
              " ('福島', 0.5821360945701599),\n",
              " ('神戸', 0.5749973654747009),\n",
              " ('那覇', 0.5727840662002563),\n",
              " ('岡山', 0.5710664391517639)]"
            ]
          },
          "metadata": {
            "tags": []
          },
          "execution_count": 14
        }
      ]
    },
    {
      "cell_type": "code",
      "metadata": {
        "id": "Ae6NyIJMHd7t",
        "colab_type": "code",
        "colab": {}
      },
      "source": [
        ""
      ],
      "execution_count": 0,
      "outputs": []
    }
  ]
}