{
  "nbformat": 4,
  "nbformat_minor": 0,
  "metadata": {
    "colab": {
      "name": "test_word2vec.ipynb",
      "provenance": [],
      "include_colab_link": true
    },
    "kernelspec": {
      "name": "python3",
      "display_name": "Python 3"
    }
  },
  "cells": [
    {
      "cell_type": "markdown",
      "metadata": {
        "id": "view-in-github",
        "colab_type": "text"
      },
      "source": [
        "<a href=\"https://colab.research.google.com/github/irasin/jp_w2v/blob/master/test_word2vec.ipynb\" target=\"_parent\"><img src=\"https://colab.research.google.com/assets/colab-badge.svg\" alt=\"Open In Colab\"/></a>"
      ]
    },
    {
      "cell_type": "code",
      "metadata": {
        "id": "gASRZ1t0GD4K",
        "colab_type": "code",
        "colab": {
          "base_uri": "https://localhost:8080/",
          "height": 122
        },
        "outputId": "d6274970-ad67-4664-e976-4d5eec732ef6"
      },
      "source": [
        "from google.colab import drive\n",
        "drive.mount('/content/drive')"
      ],
      "execution_count": 1,
      "outputs": [
        {
          "output_type": "stream",
          "text": [
            "Go to this URL in a browser: https://accounts.google.com/o/oauth2/auth?client_id=947318989803-6bn6qk8qdgf4n4g3pfee6491hc0brc4i.apps.googleusercontent.com&redirect_uri=urn%3Aietf%3Awg%3Aoauth%3A2.0%3Aoob&scope=email%20https%3A%2F%2Fwww.googleapis.com%2Fauth%2Fdocs.test%20https%3A%2F%2Fwww.googleapis.com%2Fauth%2Fdrive%20https%3A%2F%2Fwww.googleapis.com%2Fauth%2Fdrive.photos.readonly%20https%3A%2F%2Fwww.googleapis.com%2Fauth%2Fpeopleapi.readonly&response_type=code\n",
            "\n",
            "Enter your authorization code:\n",
            "··········\n",
            "Mounted at /content/drive\n"
          ],
          "name": "stdout"
        }
      ]
    },
    {
      "cell_type": "code",
      "metadata": {
        "id": "8RMdNeqOGmXT",
        "colab_type": "code",
        "colab": {}
      },
      "source": [
        "!ls -l drive/My\\ Drive/ "
      ],
      "execution_count": 0,
      "outputs": []
    },
    {
      "cell_type": "code",
      "metadata": {
        "id": "ZxrPpI2wGN7H",
        "colab_type": "code",
        "colab": {}
      },
      "source": [
        "import logging\n",
        "from gensim.models import KeyedVectors\n",
        "\n",
        "logging.basicConfig(format='%(asctime)s : %(levelname)s : %(message)s', level=logging.INFO)\n",
        "logging.root.setLevel(level=logging.INFO)\n"
      ],
      "execution_count": 0,
      "outputs": []
    },
    {
      "cell_type": "code",
      "metadata": {
        "id": "9M4_Z-phGXBw",
        "colab_type": "code",
        "colab": {
          "base_uri": "https://localhost:8080/",
          "height": 105
        },
        "outputId": "07929f10-9231-455c-b38a-b8f8caea383e"
      },
      "source": [
        "model = KeyedVectors.load_word2vec_format('drive/My Drive/w2v_d200.txt', binary=False)"
      ],
      "execution_count": 11,
      "outputs": [
        {
          "output_type": "stream",
          "text": [
            "2019-11-04 11:10:47,607 : INFO : loading projection weights from drive/My Drive/w2v_d200.txt\n",
            "/usr/local/lib/python3.6/dist-packages/smart_open/smart_open_lib.py:398: UserWarning: This function is deprecated, use smart_open.open instead. See the migration notes for details: https://github.com/RaRe-Technologies/smart_open/blob/master/README.rst#migrating-to-the-new-open-function\n",
            "  'See the migration notes for details: %s' % _MIGRATION_NOTES_URL\n",
            "2019-11-04 11:11:03,614 : INFO : loaded (75187, 200) matrix from drive/My Drive/w2v_d200.txt\n"
          ],
          "name": "stderr"
        }
      ]
    },
    {
      "cell_type": "code",
      "metadata": {
        "id": "ZGjxqwHqGc2t",
        "colab_type": "code",
        "colab": {
          "base_uri": "https://localhost:8080/",
          "height": 258
        },
        "outputId": "2db4f14f-9346-4a2f-ae48-f09975772869"
      },
      "source": [
        "model.most_similar(positive=[\"日本\"], topn=10)"
      ],
      "execution_count": 12,
      "outputs": [
        {
          "output_type": "stream",
          "text": [
            "2019-11-04 11:11:45,803 : INFO : precomputing L2-norms of word weight vectors\n",
            "/usr/local/lib/python3.6/dist-packages/gensim/matutils.py:737: FutureWarning: Conversion of the second argument of issubdtype from `int` to `np.signedinteger` is deprecated. In future, it will be treated as `np.int64 == np.dtype(int).type`.\n",
            "  if np.issubdtype(vec.dtype, np.int):\n"
          ],
          "name": "stderr"
        },
        {
          "output_type": "execute_result",
          "data": {
            "text/plain": [
              "[('中国', 0.5747629404067993),\n",
              " ('韓国', 0.5684376955032349),\n",
              " ('台湾', 0.4982430338859558),\n",
              " ('アメリカ', 0.49098077416419983),\n",
              " ('英国', 0.47918933629989624),\n",
              " ('米国', 0.458008348941803),\n",
              " ('イギリス', 0.4560769200325012),\n",
              " ('大日本帝国', 0.43588146567344666),\n",
              " ('アメリカ合衆国', 0.4266173541545868),\n",
              " ('業界', 0.42286229133605957)]"
            ]
          },
          "metadata": {
            "tags": []
          },
          "execution_count": 12
        }
      ]
    },
    {
      "cell_type": "code",
      "metadata": {
        "id": "jFn7UXoDHRNx",
        "colab_type": "code",
        "colab": {
          "base_uri": "https://localhost:8080/",
          "height": 241
        },
        "outputId": "6ed0888b-11e5-4ef9-bd78-7491efdaf8d5"
      },
      "source": [
        "model.most_similar(positive=[\"ノルム\"], topn=10)"
      ],
      "execution_count": 13,
      "outputs": [
        {
          "output_type": "stream",
          "text": [
            "/usr/local/lib/python3.6/dist-packages/gensim/matutils.py:737: FutureWarning: Conversion of the second argument of issubdtype from `int` to `np.signedinteger` is deprecated. In future, it will be treated as `np.int64 == np.dtype(int).type`.\n",
            "  if np.issubdtype(vec.dtype, np.int):\n"
          ],
          "name": "stderr"
        },
        {
          "output_type": "execute_result",
          "data": {
            "text/plain": [
              "[('線型', 0.8906443119049072),\n",
              " ('作用素', 0.8841264247894287),\n",
              " ('函数', 0.8807777166366577),\n",
              " ('測度', 0.8675074577331543),\n",
              " ('多元', 0.8657732009887695),\n",
              " ('代数', 0.8634017109870911),\n",
              " ('複素', 0.8605852127075195),\n",
              " ('球面', 0.8520758748054504),\n",
              " ('位相', 0.8491082191467285),\n",
              " ('積分', 0.8445712924003601)]"
            ]
          },
          "metadata": {
            "tags": []
          },
          "execution_count": 13
        }
      ]
    },
    {
      "cell_type": "code",
      "metadata": {
        "id": "xM02hpb-HUKM",
        "colab_type": "code",
        "colab": {
          "base_uri": "https://localhost:8080/",
          "height": 241
        },
        "outputId": "9f16c8bd-16ef-4993-e8a0-dc5fcfd82ce0"
      },
      "source": [
        "model.most_similar(positive=[\"トヨタ\"], topn=10)"
      ],
      "execution_count": 14,
      "outputs": [
        {
          "output_type": "stream",
          "text": [
            "/usr/local/lib/python3.6/dist-packages/gensim/matutils.py:737: FutureWarning: Conversion of the second argument of issubdtype from `int` to `np.signedinteger` is deprecated. In future, it will be treated as `np.int64 == np.dtype(int).type`.\n",
            "  if np.issubdtype(vec.dtype, np.int):\n"
          ],
          "name": "stderr"
        },
        {
          "output_type": "execute_result",
          "data": {
            "text/plain": [
              "[('日産', 0.8704273700714111),\n",
              " ('ホンダ', 0.8328846096992493),\n",
              " ('ワークス', 0.8131386041641235),\n",
              " ('トヨタ自動車', 0.8117178678512573),\n",
              " ('マツダ', 0.8010842800140381),\n",
              " ('ルノー', 0.797843337059021),\n",
              " ('ヤマハ', 0.7899805307388306),\n",
              " ('日産自動車', 0.7770525217056274),\n",
              " ('bmw', 0.7749271392822266),\n",
              " ('メルセデス・ベンツ', 0.7745543718338013)]"
            ]
          },
          "metadata": {
            "tags": []
          },
          "execution_count": 14
        }
      ]
    },
    {
      "cell_type": "code",
      "metadata": {
        "id": "5I07NTPeHVtZ",
        "colab_type": "code",
        "colab": {
          "base_uri": "https://localhost:8080/",
          "height": 241
        },
        "outputId": "20a10ee1-9135-40c7-ea7a-0a2b1d7e53a3"
      },
      "source": [
        "model.most_similar(positive=[\"富士山\"],topn=10)"
      ],
      "execution_count": 15,
      "outputs": [
        {
          "output_type": "stream",
          "text": [
            "/usr/local/lib/python3.6/dist-packages/gensim/matutils.py:737: FutureWarning: Conversion of the second argument of issubdtype from `int` to `np.signedinteger` is deprecated. In future, it will be treated as `np.int64 == np.dtype(int).type`.\n",
            "  if np.issubdtype(vec.dtype, np.int):\n"
          ],
          "name": "stderr"
        },
        {
          "output_type": "execute_result",
          "data": {
            "text/plain": [
              "[('参道', 0.7587883472442627),\n",
              " ('峡', 0.7331640720367432),\n",
              " ('山頂', 0.7321951985359192),\n",
              " ('河岸', 0.7294334173202515),\n",
              " ('滝', 0.7291713953018188),\n",
              " ('連峰', 0.717062771320343),\n",
              " ('千曲川', 0.7152041792869568),\n",
              " ('山麓', 0.7140864133834839),\n",
              " ('利根川', 0.7099119424819946),\n",
              " ('高台', 0.70784592628479)]"
            ]
          },
          "metadata": {
            "tags": []
          },
          "execution_count": 15
        }
      ]
    },
    {
      "cell_type": "code",
      "metadata": {
        "id": "USM6Kdf2HXaT",
        "colab_type": "code",
        "colab": {
          "base_uri": "https://localhost:8080/",
          "height": 241
        },
        "outputId": "0fe016f0-1f94-4cbc-dfde-bc28208788e1"
      },
      "source": [
        "model.most_similar(positive=[\"寒い\"],topn=10)"
      ],
      "execution_count": 16,
      "outputs": [
        {
          "output_type": "stream",
          "text": [
            "/usr/local/lib/python3.6/dist-packages/gensim/matutils.py:737: FutureWarning: Conversion of the second argument of issubdtype from `int` to `np.signedinteger` is deprecated. In future, it will be treated as `np.int64 == np.dtype(int).type`.\n",
            "  if np.issubdtype(vec.dtype, np.int):\n"
          ],
          "name": "stderr"
        },
        {
          "output_type": "execute_result",
          "data": {
            "text/plain": [
              "[('暑い', 0.8220822811126709),\n",
              " ('暑く', 0.7547837495803833),\n",
              " ('暖かく', 0.7042610049247742),\n",
              " ('降る', 0.6694111227989197),\n",
              " ('涼しく', 0.6600393652915955),\n",
              " ('降雨', 0.6496485471725464),\n",
              " ('冷涼', 0.6491613388061523),\n",
              " ('初夏', 0.6467099189758301),\n",
              " ('冬', 0.6398857831954956),\n",
              " ('大雪', 0.6308424472808838)]"
            ]
          },
          "metadata": {
            "tags": []
          },
          "execution_count": 16
        }
      ]
    },
    {
      "cell_type": "code",
      "metadata": {
        "id": "ilfLlUs1HY2t",
        "colab_type": "code",
        "colab": {
          "base_uri": "https://localhost:8080/",
          "height": 241
        },
        "outputId": "70f1f6f6-5e52-4c4e-8d82-3872b52e96a6"
      },
      "source": [
        "model.most_similar(positive=[\"遠い\"], topn=10)"
      ],
      "execution_count": 17,
      "outputs": [
        {
          "output_type": "stream",
          "text": [
            "/usr/local/lib/python3.6/dist-packages/gensim/matutils.py:737: FutureWarning: Conversion of the second argument of issubdtype from `int` to `np.signedinteger` is deprecated. In future, it will be treated as `np.int64 == np.dtype(int).type`.\n",
            "  if np.issubdtype(vec.dtype, np.int):\n"
          ],
          "name": "stderr"
        },
        {
          "output_type": "execute_result",
          "data": {
            "text/plain": [
              "[('遠く', 0.7514098882675171),\n",
              " ('昔', 0.7140387296676636),\n",
              " ('いたる', 0.6284627914428711),\n",
              " ('来る', 0.60142982006073),\n",
              " ('寒い', 0.6008362770080566),\n",
              " ('遠方', 0.5984895825386047),\n",
              " ('暗い', 0.5949702262878418),\n",
              " ('古来', 0.5948711633682251),\n",
              " ('伸びる', 0.5892114639282227),\n",
              " ('明るい', 0.587004542350769)]"
            ]
          },
          "metadata": {
            "tags": []
          },
          "execution_count": 17
        }
      ]
    },
    {
      "cell_type": "code",
      "metadata": {
        "id": "Eha2wHZDHaLP",
        "colab_type": "code",
        "colab": {
          "base_uri": "https://localhost:8080/",
          "height": 241
        },
        "outputId": "2085abad-7582-4da0-8833-fea2d6ad74c9"
      },
      "source": [
        "model.most_similar(positive=[\"国王\", \"女\"], negative=[\"男\"], topn=10)"
      ],
      "execution_count": 18,
      "outputs": [
        {
          "output_type": "stream",
          "text": [
            "/usr/local/lib/python3.6/dist-packages/gensim/matutils.py:737: FutureWarning: Conversion of the second argument of issubdtype from `int` to `np.signedinteger` is deprecated. In future, it will be treated as `np.int64 == np.dtype(int).type`.\n",
            "  if np.issubdtype(vec.dtype, np.int):\n"
          ],
          "name": "stderr"
        },
        {
          "output_type": "execute_result",
          "data": {
            "text/plain": [
              "[('皇帝', 0.7798535823822021),\n",
              " ('君主', 0.750978946685791),\n",
              " ('スルターン', 0.750969648361206),\n",
              " ('教皇', 0.7489813566207886),\n",
              " ('諸侯', 0.7294131517410278),\n",
              " ('スルタン', 0.7208018898963928),\n",
              " ('王妃', 0.7059065699577332),\n",
              " ('王室', 0.7053713798522949),\n",
              " ('エルサレム', 0.7048318982124329),\n",
              " ('貴族', 0.7005354166030884)]"
            ]
          },
          "metadata": {
            "tags": []
          },
          "execution_count": 18
        }
      ]
    },
    {
      "cell_type": "code",
      "metadata": {
        "id": "lBdOAYlcHbhd",
        "colab_type": "code",
        "colab": {
          "base_uri": "https://localhost:8080/",
          "height": 241
        },
        "outputId": "844108a8-fb76-496f-a6c9-70b8aca39d9e"
      },
      "source": [
        "model.most_similar(positive=[\"姪\", \"男\"], negative=[\"女\"], topn=10)"
      ],
      "execution_count": 19,
      "outputs": [
        {
          "output_type": "stream",
          "text": [
            "/usr/local/lib/python3.6/dist-packages/gensim/matutils.py:737: FutureWarning: Conversion of the second argument of issubdtype from `int` to `np.signedinteger` is deprecated. In future, it will be treated as `np.int64 == np.dtype(int).type`.\n",
            "  if np.issubdtype(vec.dtype, np.int):\n"
          ],
          "name": "stderr"
        },
        {
          "output_type": "execute_result",
          "data": {
            "text/plain": [
              "[('従兄弟', 0.8292586803436279),\n",
              " ('義理', 0.8235546946525574),\n",
              " ('弟', 0.7970352172851562),\n",
              " ('母方', 0.7928547859191895),\n",
              " ('甥', 0.7925671339035034),\n",
              " ('孫娘', 0.792231559753418),\n",
              " ('叔父', 0.7908837795257568),\n",
              " ('従弟', 0.7852224707603455),\n",
              " ('長女', 0.7777984142303467),\n",
              " ('祖母', 0.7758060097694397)]"
            ]
          },
          "metadata": {
            "tags": []
          },
          "execution_count": 19
        }
      ]
    },
    {
      "cell_type": "code",
      "metadata": {
        "id": "uyqZgIghHdBc",
        "colab_type": "code",
        "colab": {
          "base_uri": "https://localhost:8080/",
          "height": 275
        },
        "outputId": "12cfbfc3-810a-4f70-9f25-d59391abf46c"
      },
      "source": [
        "model.wv.most_similar(positive=[\"札幌\", \"沖縄\"], negative=[\"北海道\"], topn=10)"
      ],
      "execution_count": 20,
      "outputs": [
        {
          "output_type": "stream",
          "text": [
            "/usr/local/lib/python3.6/dist-packages/ipykernel_launcher.py:1: DeprecationWarning: Call to deprecated `wv` (Attribute will be removed in 4.0.0, use self instead).\n",
            "  \"\"\"Entry point for launching an IPython kernel.\n",
            "/usr/local/lib/python3.6/dist-packages/gensim/matutils.py:737: FutureWarning: Conversion of the second argument of issubdtype from `int` to `np.signedinteger` is deprecated. In future, it will be treated as `np.int64 == np.dtype(int).type`.\n",
            "  if np.issubdtype(vec.dtype, np.int):\n"
          ],
          "name": "stderr"
        },
        {
          "output_type": "execute_result",
          "data": {
            "text/plain": [
              "[('福岡', 0.6588518619537354),\n",
              " ('宮崎', 0.6175059080123901),\n",
              " ('広島', 0.6118611693382263),\n",
              " ('教委', 0.601322591304779),\n",
              " ('宮城', 0.5886821150779724),\n",
              " ('山形', 0.5790566802024841),\n",
              " ('福島', 0.5749239921569824),\n",
              " ('熊本', 0.5717126131057739),\n",
              " ('長崎', 0.5703929662704468),\n",
              " ('北九州', 0.5656025409698486)]"
            ]
          },
          "metadata": {
            "tags": []
          },
          "execution_count": 20
        }
      ]
    },
    {
      "cell_type": "code",
      "metadata": {
        "id": "Ae6NyIJMHd7t",
        "colab_type": "code",
        "colab": {}
      },
      "source": [
        ""
      ],
      "execution_count": 0,
      "outputs": []
    }
  ]
}